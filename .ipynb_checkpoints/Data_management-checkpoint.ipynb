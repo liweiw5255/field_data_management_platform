{
 "cells": [
  {
   "cell_type": "markdown",
   "id": "f0955f7a-c031-478f-98f9-e493a0e68deb",
   "metadata": {
    "tags": []
   },
   "source": [
    "## Load Libraries"
   ]
  },
  {
   "cell_type": "code",
   "execution_count": 1,
   "id": "2374b40c-25b2-469d-82e0-3d329795db09",
   "metadata": {},
   "outputs": [],
   "source": [
    "#! conda install paramiko -y\n",
    "#! conda install bs4 -y\n",
    "#! conda install requests -y\n",
    "#! conda install numpy -y\n",
    "#! conda install pandas -y\n",
    "#! conda install selenium -y\n",
    "#! conda install sqlalchemy -y\n",
    "#! pip3 install mysql-connector-python"
   ]
  },
  {
   "cell_type": "code",
   "execution_count": 2,
   "id": "4c19e0dc-713b-40e3-aa8e-e6aa4c2cd0cc",
   "metadata": {},
   "outputs": [
    {
     "name": "stderr",
     "output_type": "stream",
     "text": [
      "/home/liweiw/.conda/envs/dataprocess/lib/python3.11/site-packages/paramiko/transport.py:219: CryptographyDeprecationWarning: Blowfish has been deprecated and will be removed in a future release\n",
      "  \"class\": algorithms.Blowfish,\n"
     ]
    }
   ],
   "source": [
    "import numpy as np\n",
    "from datetime import datetime, timedelta\n",
    "import pandas as pd\n",
    "#import matplotlib.pyplot as plt\n",
    "import os\n",
    "import sys\n",
    "import time\n",
    "from path import path as root_path\n",
    "\n",
    "from sp import SunnyPortal as sp\n",
    "from ae import AlsoEnergy as ae\n",
    "from ws import WeatherStation as ws\n",
    "from de import DominionEnergySFTP as de_sftp\n",
    "from mysql_lib import mySQLConnect as mysql_lib"
   ]
  },
  {
   "cell_type": "markdown",
   "id": "95101899-541c-4998-b0d4-15d90cb50fd3",
   "metadata": {
    "tags": []
   },
   "source": [
    "## Path"
   ]
  },
  {
   "cell_type": "code",
   "execution_count": 3,
   "id": "a5dec060-1e08-4a60-9051-e3467f93ed97",
   "metadata": {},
   "outputs": [],
   "source": [
    "# path\n",
    "sp_path = root_path + \"sp/sp_data/\"\n",
    "ae_path = root_path + \"ae/ae_data/\"\n",
    "de_path = root_path + \"de/de_data/\"\n",
    "ws_path = root_path + \"ws/ws_data/\"\n",
    "tmy_path = root_path + \"tmy/\"\n",
    "\n",
    "driverPath = root_path + \"chromedriver\"\n",
    "chromePath = root_path + \"chrome/chrome\"\n",
    "\n",
    "sys.path.append(driverPath)"
   ]
  },
  {
   "cell_type": "markdown",
   "id": "bdc74c45-d7b6-4f3e-bf4c-5eed358f71c9",
   "metadata": {
    "tags": []
   },
   "source": [
    "## Date Range "
   ]
  },
  {
   "cell_type": "code",
   "execution_count": 4,
   "id": "985f4021-72c5-44d6-9adc-a78af07bad7a",
   "metadata": {},
   "outputs": [],
   "source": [
    "start_date = datetime(2023,9,20)\n",
    "end_date =  datetime.today() - timedelta(days=1) #datetime(2024,4,15)"
   ]
  },
  {
   "cell_type": "markdown",
   "id": "cb7f3b39-ff08-4048-92f8-59864e6ecc55",
   "metadata": {
    "tags": []
   },
   "source": [
    "## Other Parameters"
   ]
  },
  {
   "cell_type": "code",
   "execution_count": 5,
   "id": "2a4817a9-9659-4b5f-b883-8377aa02c601",
   "metadata": {},
   "outputs": [],
   "source": [
    "interval = 5\n",
    "thr = 0.4\n",
    "sp_interval = 5\n",
    "ae_interval = 1\n",
    "tmy_interval = 60\n",
    "sp_itv = int(tmy_interval/sp_interval)\n",
    "ae_itv = int(tmy_interval/ae_interval)\n",
    "num_display = 8\n",
    "num_device = 3"
   ]
  },
  {
   "cell_type": "markdown",
   "id": "6e732228-e8cd-4687-be48-05365f94f504",
   "metadata": {
    "tags": []
   },
   "source": [
    "## Acquire Data"
   ]
  },
  {
   "cell_type": "code",
   "execution_count": 6,
   "id": "dcd1102a-386e-4fb9-900e-29a77b2d21bd",
   "metadata": {},
   "outputs": [],
   "source": [
    "def ae_download():\n",
    "    # Confidential Information\n",
    "    ae_username = 'tracepv2022@outlook.com'\n",
    "    ae_password = 'tracePV123!!!!!!'\n",
    "\n",
    "    ae_object = ae.AlsoEnergy(ae_path, driverPath, chromePath)\n",
    "    ae_object.setUserName(ae_username)\n",
    "    ae_object.setPassword(ae_password)\n",
    "    ae_object.setStartDate(start_date)\n",
    "    ae_object.setEndDate(end_date)\n",
    "    ae_object.AlsoEnergy()"
   ]
  },
  {
   "cell_type": "code",
   "execution_count": 7,
   "id": "b6213868-6b6a-4ff9-a7e2-0a92b203d740",
   "metadata": {},
   "outputs": [],
   "source": [
    "def sp_download():\n",
    "    sp_username = \"liweiw@g.clemson.edu\"\n",
    "    sp_password = \"tracePV123...\"\n",
    "    sp_object = sp.SunnyPortal(sp_path)\n",
    "    sp_object.setUserName(sp_username)\n",
    "    sp_object.setPassword(sp_password)\n",
    "    sp_object.setStartDate(start_date)\n",
    "    sp_object.setEndDate(end_date)\n",
    "    sp_object.SunnyPortal()"
   ]
  },
  {
   "cell_type": "code",
   "execution_count": 8,
   "id": "d688e74b-0720-4816-b96b-db15f0c9f700",
   "metadata": {},
   "outputs": [],
   "source": [
    "def ws_download():\n",
    "    apiKey = \"e1f10a1e78da46f5b10a1e78da96f525\"\n",
    "    ws_object = ws.WeatherStation(ws_path, apiKey)\n",
    "    ws_object.setStartDate(start_date)\n",
    "    ws_object.setEndDate(end_date)\n",
    "    ws_object.WeatherStation()"
   ]
  },
  {
   "cell_type": "code",
   "execution_count": 9,
   "id": "1841f7f7-d754-4d2d-89b7-c5e4944baa7a",
   "metadata": {},
   "outputs": [],
   "source": [
    "def de_download():\n",
    "    sftp_host = 'secureftp.dominionenergy.com'  # Hostname from dominion energy\n",
    "    sftp_port = 22  # Port \n",
    "    sftp_username = 'DESC_CLEMSON'  # Clemson Username\n",
    "    sftp_private_key_path = \"de/sftp/clemson_privatekey.pem\" \n",
    "    dm_sftp_obj = de_sftp.DominionEnergySFTP(sftp_host, sftp_username, sftp_private_key_path)\n",
    "    dm_sftp_obj.connect()\n",
    "    \n",
    "    # download file\n",
    "    out_folder_name = \"./outbound/\"\n",
    "    download_folder = \"de/de_data/\"\n",
    "    out_file_list = dm_sftp_obj.read_file_list(out_folder_name)\n",
    "    for file in out_file_list:\n",
    "        if(file not in os.listdir(download_folder)):\n",
    "            dm_sftp_obj.download(file, download_folder)\n",
    "        else:\n",
    "            print(file, \"existed!\")"
   ]
  },
  {
   "cell_type": "code",
   "execution_count": 10,
   "id": "eda483e9-7a7e-455f-a670-3b6b1970dace",
   "metadata": {},
   "outputs": [
    {
     "name": "stdout",
     "output_type": "stream",
     "text": [
      "/home/liweiw/TRACE_PV/data_process/data_management_platform/\n"
     ]
    },
    {
     "ename": "WebDriverException",
     "evalue": "Message: '' executable may have wrong permissions. Please see https://sites.google.com/a/chromium.org/chromedriver/home\n",
     "output_type": "error",
     "traceback": [
      "\u001b[0;31m---------------------------------------------------------------------------\u001b[0m",
      "\u001b[0;31mPermissionError\u001b[0m                           Traceback (most recent call last)",
      "File \u001b[0;32m~/.conda/envs/dataprocess/lib/python3.11/site-packages/selenium/webdriver/common/service.py:72\u001b[0m, in \u001b[0;36mService.start\u001b[0;34m(self)\u001b[0m\n\u001b[1;32m     71\u001b[0m     cmd\u001b[38;5;241m.\u001b[39mextend(\u001b[38;5;28mself\u001b[39m\u001b[38;5;241m.\u001b[39mcommand_line_args())\n\u001b[0;32m---> 72\u001b[0m     \u001b[38;5;28mself\u001b[39m\u001b[38;5;241m.\u001b[39mprocess \u001b[38;5;241m=\u001b[39m subprocess\u001b[38;5;241m.\u001b[39mPopen(cmd, env\u001b[38;5;241m=\u001b[39m\u001b[38;5;28mself\u001b[39m\u001b[38;5;241m.\u001b[39menv,\n\u001b[1;32m     73\u001b[0m                                     close_fds\u001b[38;5;241m=\u001b[39mplatform\u001b[38;5;241m.\u001b[39msystem() \u001b[38;5;241m!=\u001b[39m \u001b[38;5;124m'\u001b[39m\u001b[38;5;124mWindows\u001b[39m\u001b[38;5;124m'\u001b[39m,\n\u001b[1;32m     74\u001b[0m                                     stdout\u001b[38;5;241m=\u001b[39m\u001b[38;5;28mself\u001b[39m\u001b[38;5;241m.\u001b[39mlog_file,\n\u001b[1;32m     75\u001b[0m                                     stderr\u001b[38;5;241m=\u001b[39m\u001b[38;5;28mself\u001b[39m\u001b[38;5;241m.\u001b[39mlog_file,\n\u001b[1;32m     76\u001b[0m                                     stdin\u001b[38;5;241m=\u001b[39mPIPE)\n\u001b[1;32m     77\u001b[0m \u001b[38;5;28;01mexcept\u001b[39;00m \u001b[38;5;167;01mTypeError\u001b[39;00m:\n",
      "File \u001b[0;32m~/.conda/envs/dataprocess/lib/python3.11/subprocess.py:1026\u001b[0m, in \u001b[0;36mPopen.__init__\u001b[0;34m(self, args, bufsize, executable, stdin, stdout, stderr, preexec_fn, close_fds, shell, cwd, env, universal_newlines, startupinfo, creationflags, restore_signals, start_new_session, pass_fds, user, group, extra_groups, encoding, errors, text, umask, pipesize, process_group)\u001b[0m\n\u001b[1;32m   1023\u001b[0m             \u001b[38;5;28mself\u001b[39m\u001b[38;5;241m.\u001b[39mstderr \u001b[38;5;241m=\u001b[39m io\u001b[38;5;241m.\u001b[39mTextIOWrapper(\u001b[38;5;28mself\u001b[39m\u001b[38;5;241m.\u001b[39mstderr,\n\u001b[1;32m   1024\u001b[0m                     encoding\u001b[38;5;241m=\u001b[39mencoding, errors\u001b[38;5;241m=\u001b[39merrors)\n\u001b[0;32m-> 1026\u001b[0m     \u001b[38;5;28mself\u001b[39m\u001b[38;5;241m.\u001b[39m_execute_child(args, executable, preexec_fn, close_fds,\n\u001b[1;32m   1027\u001b[0m                         pass_fds, cwd, env,\n\u001b[1;32m   1028\u001b[0m                         startupinfo, creationflags, shell,\n\u001b[1;32m   1029\u001b[0m                         p2cread, p2cwrite,\n\u001b[1;32m   1030\u001b[0m                         c2pread, c2pwrite,\n\u001b[1;32m   1031\u001b[0m                         errread, errwrite,\n\u001b[1;32m   1032\u001b[0m                         restore_signals,\n\u001b[1;32m   1033\u001b[0m                         gid, gids, uid, umask,\n\u001b[1;32m   1034\u001b[0m                         start_new_session, process_group)\n\u001b[1;32m   1035\u001b[0m \u001b[38;5;28;01mexcept\u001b[39;00m:\n\u001b[1;32m   1036\u001b[0m     \u001b[38;5;66;03m# Cleanup if the child failed starting.\u001b[39;00m\n",
      "File \u001b[0;32m~/.conda/envs/dataprocess/lib/python3.11/subprocess.py:1953\u001b[0m, in \u001b[0;36mPopen._execute_child\u001b[0;34m(self, args, executable, preexec_fn, close_fds, pass_fds, cwd, env, startupinfo, creationflags, shell, p2cread, p2cwrite, c2pread, c2pwrite, errread, errwrite, restore_signals, gid, gids, uid, umask, start_new_session, process_group)\u001b[0m\n\u001b[1;32m   1952\u001b[0m \u001b[38;5;28;01mif\u001b[39;00m err_filename \u001b[38;5;129;01mis\u001b[39;00m \u001b[38;5;129;01mnot\u001b[39;00m \u001b[38;5;28;01mNone\u001b[39;00m:\n\u001b[0;32m-> 1953\u001b[0m     \u001b[38;5;28;01mraise\u001b[39;00m child_exception_type(errno_num, err_msg, err_filename)\n\u001b[1;32m   1954\u001b[0m \u001b[38;5;28;01melse\u001b[39;00m:\n",
      "\u001b[0;31mPermissionError\u001b[0m: [Errno 13] Permission denied: '/home/liweiw/TRACE_PV/data_process/data_management_platform/'",
      "\nDuring handling of the above exception, another exception occurred:\n",
      "\u001b[0;31mWebDriverException\u001b[0m                        Traceback (most recent call last)",
      "Cell \u001b[0;32mIn[10], line 2\u001b[0m\n\u001b[1;32m      1\u001b[0m \u001b[38;5;66;03m# Data Collection\u001b[39;00m\n\u001b[0;32m----> 2\u001b[0m ae_download()\n",
      "Cell \u001b[0;32mIn[6], line 11\u001b[0m, in \u001b[0;36mae_download\u001b[0;34m()\u001b[0m\n\u001b[1;32m      9\u001b[0m ae_object\u001b[38;5;241m.\u001b[39msetStartDate(start_date)\n\u001b[1;32m     10\u001b[0m ae_object\u001b[38;5;241m.\u001b[39msetEndDate(end_date)\n\u001b[0;32m---> 11\u001b[0m ae_object\u001b[38;5;241m.\u001b[39mAlsoEnergy()\n",
      "File \u001b[0;32m~/TRACE_PV/data_process/data_management_platform/ae/AlsoEnergy.py:96\u001b[0m, in \u001b[0;36mAlsoEnergy.AlsoEnergy\u001b[0;34m(self)\u001b[0m\n\u001b[1;32m     94\u001b[0m \u001b[38;5;28;01mdef\u001b[39;00m \u001b[38;5;21mAlsoEnergy\u001b[39m(\u001b[38;5;28mself\u001b[39m):\n\u001b[1;32m     95\u001b[0m     \u001b[38;5;66;03m# initialize web driver\u001b[39;00m\n\u001b[0;32m---> 96\u001b[0m     driver \u001b[38;5;241m=\u001b[39m \u001b[38;5;28mself\u001b[39m\u001b[38;5;241m.\u001b[39minitChromeDriver()\n\u001b[1;32m     97\u001b[0m     \u001b[38;5;66;03m# login to the website\u001b[39;00m\n\u001b[1;32m     98\u001b[0m     \u001b[38;5;28mself\u001b[39m\u001b[38;5;241m.\u001b[39mloginWebsite(driver)\n",
      "File \u001b[0;32m~/TRACE_PV/data_process/data_management_platform/ae/AlsoEnergy.py:61\u001b[0m, in \u001b[0;36mAlsoEnergy.initChromeDriver\u001b[0;34m(self)\u001b[0m\n\u001b[1;32m     59\u001b[0m option\u001b[38;5;241m.\u001b[39madd_argument(\u001b[38;5;124m'\u001b[39m\u001b[38;5;124m--disable-logging\u001b[39m\u001b[38;5;124m'\u001b[39m)\n\u001b[1;32m     60\u001b[0m \u001b[38;5;28mprint\u001b[39m(\u001b[38;5;28mself\u001b[39m\u001b[38;5;241m.\u001b[39mdriverPath)\n\u001b[0;32m---> 61\u001b[0m driver \u001b[38;5;241m=\u001b[39m webdriver\u001b[38;5;241m.\u001b[39mChrome(executable_path\u001b[38;5;241m=\u001b[39m\u001b[38;5;28mself\u001b[39m\u001b[38;5;241m.\u001b[39mdriverPath, options\u001b[38;5;241m=\u001b[39moption)\n\u001b[1;32m     62\u001b[0m \u001b[38;5;66;03m#driver = webdriver.Chrome(options=option)\u001b[39;00m\n\u001b[1;32m     63\u001b[0m \u001b[38;5;28mself\u001b[39m\u001b[38;5;241m.\u001b[39menable_download_headless(driver)\n",
      "File \u001b[0;32m~/.conda/envs/dataprocess/lib/python3.11/site-packages/selenium/webdriver/chrome/webdriver.py:73\u001b[0m, in \u001b[0;36mWebDriver.__init__\u001b[0;34m(self, executable_path, port, options, service_args, desired_capabilities, service_log_path, chrome_options, keep_alive)\u001b[0m\n\u001b[1;32m     66\u001b[0m         desired_capabilities\u001b[38;5;241m.\u001b[39mupdate(options\u001b[38;5;241m.\u001b[39mto_capabilities())\n\u001b[1;32m     68\u001b[0m \u001b[38;5;28mself\u001b[39m\u001b[38;5;241m.\u001b[39mservice \u001b[38;5;241m=\u001b[39m Service(\n\u001b[1;32m     69\u001b[0m     executable_path,\n\u001b[1;32m     70\u001b[0m     port\u001b[38;5;241m=\u001b[39mport,\n\u001b[1;32m     71\u001b[0m     service_args\u001b[38;5;241m=\u001b[39mservice_args,\n\u001b[1;32m     72\u001b[0m     log_path\u001b[38;5;241m=\u001b[39mservice_log_path)\n\u001b[0;32m---> 73\u001b[0m \u001b[38;5;28mself\u001b[39m\u001b[38;5;241m.\u001b[39mservice\u001b[38;5;241m.\u001b[39mstart()\n\u001b[1;32m     75\u001b[0m \u001b[38;5;28;01mtry\u001b[39;00m:\n\u001b[1;32m     76\u001b[0m     RemoteWebDriver\u001b[38;5;241m.\u001b[39m\u001b[38;5;21m__init__\u001b[39m(\n\u001b[1;32m     77\u001b[0m         \u001b[38;5;28mself\u001b[39m,\n\u001b[1;32m     78\u001b[0m         command_executor\u001b[38;5;241m=\u001b[39mChromeRemoteConnection(\n\u001b[1;32m     79\u001b[0m             remote_server_addr\u001b[38;5;241m=\u001b[39m\u001b[38;5;28mself\u001b[39m\u001b[38;5;241m.\u001b[39mservice\u001b[38;5;241m.\u001b[39mservice_url,\n\u001b[1;32m     80\u001b[0m             keep_alive\u001b[38;5;241m=\u001b[39mkeep_alive),\n\u001b[1;32m     81\u001b[0m         desired_capabilities\u001b[38;5;241m=\u001b[39mdesired_capabilities)\n",
      "File \u001b[0;32m~/.conda/envs/dataprocess/lib/python3.11/site-packages/selenium/webdriver/common/service.py:86\u001b[0m, in \u001b[0;36mService.start\u001b[0;34m(self)\u001b[0m\n\u001b[1;32m     81\u001b[0m     \u001b[38;5;28;01mraise\u001b[39;00m WebDriverException(\n\u001b[1;32m     82\u001b[0m         \u001b[38;5;124m\"\u001b[39m\u001b[38;5;124m'\u001b[39m\u001b[38;5;132;01m%s\u001b[39;00m\u001b[38;5;124m'\u001b[39m\u001b[38;5;124m executable needs to be in PATH. \u001b[39m\u001b[38;5;132;01m%s\u001b[39;00m\u001b[38;5;124m\"\u001b[39m \u001b[38;5;241m%\u001b[39m (\n\u001b[1;32m     83\u001b[0m             os\u001b[38;5;241m.\u001b[39mpath\u001b[38;5;241m.\u001b[39mbasename(\u001b[38;5;28mself\u001b[39m\u001b[38;5;241m.\u001b[39mpath), \u001b[38;5;28mself\u001b[39m\u001b[38;5;241m.\u001b[39mstart_error_message)\n\u001b[1;32m     84\u001b[0m     )\n\u001b[1;32m     85\u001b[0m \u001b[38;5;28;01melif\u001b[39;00m err\u001b[38;5;241m.\u001b[39merrno \u001b[38;5;241m==\u001b[39m errno\u001b[38;5;241m.\u001b[39mEACCES:\n\u001b[0;32m---> 86\u001b[0m     \u001b[38;5;28;01mraise\u001b[39;00m WebDriverException(\n\u001b[1;32m     87\u001b[0m         \u001b[38;5;124m\"\u001b[39m\u001b[38;5;124m'\u001b[39m\u001b[38;5;132;01m%s\u001b[39;00m\u001b[38;5;124m'\u001b[39m\u001b[38;5;124m executable may have wrong permissions. \u001b[39m\u001b[38;5;132;01m%s\u001b[39;00m\u001b[38;5;124m\"\u001b[39m \u001b[38;5;241m%\u001b[39m (\n\u001b[1;32m     88\u001b[0m             os\u001b[38;5;241m.\u001b[39mpath\u001b[38;5;241m.\u001b[39mbasename(\u001b[38;5;28mself\u001b[39m\u001b[38;5;241m.\u001b[39mpath), \u001b[38;5;28mself\u001b[39m\u001b[38;5;241m.\u001b[39mstart_error_message)\n\u001b[1;32m     89\u001b[0m     )\n\u001b[1;32m     90\u001b[0m \u001b[38;5;28;01melse\u001b[39;00m:\n\u001b[1;32m     91\u001b[0m     \u001b[38;5;28;01mraise\u001b[39;00m\n",
      "\u001b[0;31mWebDriverException\u001b[0m: Message: '' executable may have wrong permissions. Please see https://sites.google.com/a/chromium.org/chromedriver/home\n"
     ]
    }
   ],
   "source": [
    "# Data Collection\n",
    "ae_download()\n",
    "#ws_download()\n",
    "#sp_download()\n",
    "#de_download()"
   ]
  },
  {
   "cell_type": "markdown",
   "id": "a4e7cab1-7e57-49c8-a8af-8663db08e260",
   "metadata": {
    "tags": []
   },
   "source": [
    "## Load Data"
   ]
  },
  {
   "cell_type": "markdown",
   "id": "df31cdad-1185-44d1-bce7-ff8ef9c0c1ed",
   "metadata": {
    "tags": []
   },
   "source": [
    "### Load TMY as Reference"
   ]
  },
  {
   "cell_type": "markdown",
   "id": "7ce3b2ef-a424-43a8-937d-327e2d86ec8a",
   "metadata": {},
   "source": [
    "#### Load TMY Data"
   ]
  },
  {
   "cell_type": "code",
   "execution_count": null,
   "id": "9a98152f-dda4-4c23-8fc5-6ef5e7266a9b",
   "metadata": {},
   "outputs": [],
   "source": [
    "tmy_list = os.listdir(tmy_path)\n",
    "tmy_dfs = []\n",
    "for file in tmy_list:\n",
    "    try:\n",
    "        if(file[-3:] == \"csv\"):\n",
    "            tmy_df = pd.read_csv(tmy_path + file, delimiter=',',skiprows=2)\n",
    "            tmy_dfs.append(tmy_df)\n",
    "    except:\n",
    "        print(file, \"data missed\")\n",
    "    \n",
    "tmy_df = pd.concat(tmy_dfs)"
   ]
  },
  {
   "cell_type": "markdown",
   "id": "1de72b90-6308-441a-a53f-d6a94ed02e5a",
   "metadata": {},
   "source": [
    "#### Calculate History High and Low"
   ]
  },
  {
   "cell_type": "code",
   "execution_count": null,
   "id": "4b3a666a-2893-440b-b08b-8c7f6851481f",
   "metadata": {},
   "outputs": [],
   "source": [
    "# History High and Low\n",
    "max_ghi = max(tmy_df['GHI'])\n",
    "min_ghi = min(tmy_df['GHI'])\n",
    "max_temp = max(tmy_df['Temperature'])\n",
    "min_temp = min(tmy_df['Temperature'])\n",
    "max_rh = max(tmy_df['Relative Humidity'])\n",
    "min_rh = min(tmy_df['Relative Humidity'])\n",
    "max_ghi, min_ghi, max_temp, min_temp, max_rh, min_rh"
   ]
  },
  {
   "cell_type": "markdown",
   "id": "0fe232aa-3abf-479e-a1e1-f5b6fb2dc5a3",
   "metadata": {
    "tags": []
   },
   "source": [
    "### Load Field Data (Sunny Portal, Also Energy, Weather Station)"
   ]
  },
  {
   "cell_type": "markdown",
   "id": "786080e6-6ada-421e-af17-bec9d67881fe",
   "metadata": {},
   "source": [
    "#### Caluculate the Index"
   ]
  },
  {
   "cell_type": "code",
   "execution_count": null,
   "id": "1adc866a-866c-484a-85eb-c3598dabc8f0",
   "metadata": {},
   "outputs": [],
   "source": [
    "total_days = (end_date-start_date).days + 1\n",
    "\n",
    "sp_num_record = np.zeros((total_days),dtype=np.int64)\n",
    "ae_num_record = np.zeros((total_days),dtype=np.int64)\n",
    "ws_num_record = np.zeros((total_days),dtype=np.int64)\n",
    "\n",
    "sp_start_index = np.zeros((total_days),dtype=np.int64)\n",
    "sp_end_index = np.zeros((total_days),dtype=np.int64)\n",
    "\n",
    "ae_start_index = np.zeros((total_days),dtype=np.int64)\n",
    "ae_end_index = np.zeros((total_days),dtype=np.int64)\n",
    "\n",
    "ws_start_index = np.zeros((total_days),dtype=np.int64)\n",
    "ws_end_index = np.zeros((total_days),dtype=np.int64)\n",
    "\n",
    "\n",
    "for i in range(total_days):\n",
    "    current_date = start_date + timedelta(days=i)\n",
    "    sp_time_list = pd.date_range(start=current_date.replace(hour=0, minute=0), end=current_date.replace(hour=23, minute=55), freq='5min', tz='US/Eastern')\n",
    "    ae_time_list = pd.date_range(start=current_date.replace(hour=0, minute=0), end=current_date.replace(hour=23, minute=59), freq='1min', tz='US/Eastern')\n",
    "    ws_time_list = pd.date_range(start=current_date.replace(hour=0, minute=30), end=current_date.replace(hour=23, minute=59), freq='60min', tz='US/Eastern')\n",
    "    \n",
    "    sp_num_record[i] = len(sp_time_list)\n",
    "    ae_num_record[i] = len(ae_time_list)\n",
    "    ws_num_record[i] = len(ws_time_list) \n",
    "\n",
    "    if(i==0):\n",
    "        sp_start_index[i] = 0\n",
    "        ae_start_index[i] = 0\n",
    "        ws_start_index[i] = 0\n",
    "        sp_end_index[i] = num_device*sp_num_record[i]\n",
    "        ae_end_index[i] = ae_num_record[i]\n",
    "        ws_end_index[i] = ws_num_record[i]\n",
    "    else:\n",
    "        sp_start_index[i] = sp_end_index[i-1]\n",
    "        ae_start_index[i] = ae_end_index[i-1]\n",
    "        ws_start_index[i] = ws_end_index[i-1]\n",
    "        sp_end_index[i] = sp_start_index[i] + num_device*sp_num_record[i]\n",
    "        ae_end_index[i] = ae_start_index[i] + ae_num_record[i]\n",
    "        ws_end_index[i] = ws_start_index[i] + ws_num_record[i]"
   ]
  },
  {
   "cell_type": "markdown",
   "id": "3ed7ecb2-a13d-46a1-8bf4-dccc3c0f7c73",
   "metadata": {},
   "source": [
    "#### Load Data File: Also Energy(ae_df), SunnyPortal(sp_env_df, sp_op_df), Weather Station(ws_df)"
   ]
  },
  {
   "cell_type": "code",
   "execution_count": null,
   "id": "59dd6010-3cd0-42a4-9b3e-e959fe98da54",
   "metadata": {},
   "outputs": [],
   "source": [
    "current_date = start_date\n",
    "ae_dfs = []\n",
    "sp_env_dfs = []\n",
    "sp_op_dfs = []\n",
    "ws_dfs = []\n",
    "ws_tmy_dfs = []\n",
    "for i in range(total_days):\n",
    "    current_date = start_date + timedelta(days=i)\n",
    "    ae_filename = ae_path + \"ae_\" + current_date.strftime(\"%Y-%m-%d\") + \".csv\"\n",
    "    sp_env_filename = sp_path + \"environmental/\" + \"sp_\" + current_date.strftime(\"%Y-%m-%d\") + \".csv\"\n",
    "    sp_op_filename = sp_path + \"operating/\" + \"sp_\" + current_date.strftime(\"%Y-%m-%d\") + \".csv\"\n",
    "    ws_filename = ws_path + \"ws_\" + current_date.strftime(\"%Y-%m-%d\") + \".csv\"\n",
    "    \n",
    "    ae_df = pd.read_csv(ae_filename, delimiter=',')\n",
    "    ae_dfs.append(ae_df)\n",
    "\n",
    "    sp_env_df = pd.read_csv(sp_env_filename, delimiter=',')\n",
    "    sp_env_dfs.append(sp_env_df)\n",
    "\n",
    "    sp_op_df = pd.read_csv(sp_op_filename, delimiter=',')\n",
    "    sp_op_dfs.append(sp_op_df)\n",
    "\n",
    "    ws_df = pd.read_csv(ws_filename, delimiter=',')\n",
    "    ws_dfs.append(ws_df)\n",
    "    \n",
    "    print(current_date, sp_op_df.shape[0], sp_env_df.shape[0],sp_op_df.shape[0]-sp_env_df.shape[0])\n",
    "    \n",
    "# Concatentate list\n",
    "ae_df = pd.concat(ae_dfs, ignore_index=True)\n",
    "# Delete the index column\n",
    "ae_df = ae_df.drop(ae_df.columns[0], axis=1)\n",
    "\n",
    "sp_env_df = pd.concat(sp_env_dfs, ignore_index=True)\n",
    "sp_op_df = pd.concat(sp_op_dfs, ignore_index=True)\n",
    "ws_df = pd.concat(ws_dfs, ignore_index=True)"
   ]
  },
  {
   "cell_type": "markdown",
   "id": "b6c0fd74-fe0a-4ad2-b43a-796ce0991b54",
   "metadata": {},
   "source": [
    "#### Clean Data : Ir is 0 except for the operating time"
   ]
  },
  {
   "cell_type": "code",
   "execution_count": null,
   "id": "657e6196-9d51-475f-828f-14cd23024b29",
   "metadata": {},
   "outputs": [],
   "source": [
    "mask_op = sp_op_df['ac_power'] == -1\n",
    "mask_env = sp_env_df['ir'] == -1\n",
    "sp_env_df.loc[mask_env.values, 'ir'] = 0.0\n",
    "sp_op_df.loc[mask_op.values, 'ac_power'] = 0.0\n",
    "sp_op_df.loc[mask_op.values, 'dc_power_a'] = 0.0\n",
    "sp_op_df.loc[mask_op.values, 'dc_power_b'] = 0.0\n"
   ]
  },
  {
   "cell_type": "markdown",
   "id": "92ef9c20-9122-4ad6-aaac-84f4ebadebff",
   "metadata": {},
   "source": [
    "#### Clean Data : Ir higher than history high limit or history low limit will be filled with the closest value"
   ]
  },
  {
   "cell_type": "code",
   "execution_count": null,
   "id": "f195f4e7-5694-4d82-a2da-1a9188b44d6b",
   "metadata": {},
   "outputs": [],
   "source": [
    "mask_sp_max_ghi = sp_env_df['ir'] > max_ghi\n",
    "mask_sp_min_ghi = sp_env_df['ir'] < min_ghi\n",
    "mask_sp_max_temp = sp_env_df['ambient_temp2'] > max_temp\n",
    "mask_sp_min_temp = sp_env_df['ambient_temp2'] < min_temp\n",
    "mask_sp_max_rh = sp_env_df['ambient_rh'] > max_rh\n",
    "mask_sp_min_rh = sp_env_df['ambient_rh'] < min_rh\n",
    "mask_ae_max_ghi = ae_df['GHI'] > max_ghi\n",
    "mask_ae_min_ghi = ae_df['GHI'] < min_ghi\n",
    "\n",
    "sp_env_df.loc[mask_sp_max_ghi, 'ir'] = np.nan\n",
    "sp_env_df.loc[mask_sp_min_ghi, 'ir'] = np.nan\n",
    "sp_env_df.loc[mask_sp_max_temp, 'ambient_temp2'] = np.nan\n",
    "sp_env_df.loc[mask_sp_min_temp, 'ambient_temp2'] = np.nan\n",
    "sp_env_df.loc[mask_sp_max_rh, 'ambient_rh'] = np.nan\n",
    "sp_env_df.loc[mask_sp_min_rh, 'ambient_rh'] = np.nan\n",
    "ae_df.loc[mask_ae_max_ghi, 'GHI'] = np.nan\n",
    "ae_df.loc[mask_ae_min_ghi, 'GHI'] = np.nan\n",
    "\n",
    "sp_env_df['ir'] = sp_env_df['ir'].fillna(method='ffill')\n",
    "sp_env_df['ambient_temp2'] = sp_env_df['ambient_temp2'].fillna(method='ffill')\n",
    "sp_env_df['ambient_rh'] = sp_env_df['ambient_rh'].fillna(method='ffill')\n",
    "ae_df['GHI'] = ae_df['GHI'].fillna(method='ffill')\n"
   ]
  },
  {
   "cell_type": "markdown",
   "id": "f874eca4-119b-435e-9ac4-ff694f783463",
   "metadata": {
    "jp-MarkdownHeadingCollapsed": true,
    "tags": []
   },
   "source": [
    "### Load Dominion Energy (PQDIF) Data "
   ]
  },
  {
   "cell_type": "markdown",
   "id": "e5763434-5e3c-4d9a-98e6-cd32321616e5",
   "metadata": {
    "tags": []
   },
   "source": [
    "## Insert to MySQL Database"
   ]
  },
  {
   "cell_type": "markdown",
   "id": "c232e97e-bb84-4686-953b-d135132ba33a",
   "metadata": {},
   "source": [
    "### Make Connection to MySQL : mysql_obj"
   ]
  },
  {
   "cell_type": "code",
   "execution_count": null,
   "id": "aa9de34f-c0f7-4236-b288-efed0b792253",
   "metadata": {},
   "outputs": [],
   "source": [
    "def mysql_connect():\n",
    "    mysql_host = 'hpcese1.computing.clemson.edu'\n",
    "    mysql_username = 'tracepv'\n",
    "    mysql_password = 'tracePV123...'\n",
    "    mysql_database = 'tracepv'\n",
    "\n",
    "    mysql_connect_object = mysql_lib.mySQLConnect(mysql_username, mysql_password, mysql_database, mysql_host)\n",
    "    mysql_connect_object.connect()\n",
    "    \n",
    "    return mysql_connect_object"
   ]
  },
  {
   "cell_type": "code",
   "execution_count": null,
   "id": "241dc916-467e-43bf-8bcb-7ab8dae29756",
   "metadata": {},
   "outputs": [],
   "source": [
    "mysql_obj = mysql_connect()\n",
    "#mysql_obj.query(\"SELECT SunnyPortal.deviceID FROM SunnyPortal WHERE SunnyPortal.time BETWEEN '2022-07-22 23:47:00' AND '2022-07-22 23:48:00' \")\n",
    "mysql_obj.query(\"SELECT * FROM SunnyPortal WHERE SunnyPortal.time = '2022-07-22 23:47:00' AND SunnyPortal.deviceID=29\")"
   ]
  },
  {
   "cell_type": "markdown",
   "id": "e2de8b12-73ac-4869-a22a-8bd7ae2e3bbc",
   "metadata": {
    "tags": []
   },
   "source": [
    "### For Also Energy Data"
   ]
  },
  {
   "cell_type": "markdown",
   "id": "48328f91-779f-4cf9-a42d-9bea62f0ef2f",
   "metadata": {},
   "source": [
    "#### Adjust Data Format"
   ]
  },
  {
   "cell_type": "code",
   "execution_count": null,
   "id": "511acc47-6037-41ac-a957-bd23aae298cb",
   "metadata": {},
   "outputs": [],
   "source": [
    "'''\n",
    "AE Description:\n",
    "\n",
    "    AE = {'Time','GHI','POA','ambient_temp','module_temp'}\n",
    "\n",
    "'''\n",
    "ae_df"
   ]
  },
  {
   "cell_type": "markdown",
   "id": "a3a1d363-796b-49f8-bc57-7a87722fa16a",
   "metadata": {},
   "source": [
    "#### Insert the dataframe Day by Day"
   ]
  },
  {
   "cell_type": "code",
   "execution_count": null,
   "id": "bd608c19-8074-4482-8c02-517ec178de92",
   "metadata": {},
   "outputs": [],
   "source": [
    "for i in range(total_days):\n",
    "    current_date = start_date + timedelta(days=i)\n",
    "    current_df = ae_df.iloc[ae_start_index[i]:ae_end_index[i]]\n",
    "    # Insert Operation\n",
    "    #print(current_date)\n",
    "    #print(mysql_obj.insert(current_df, \"AlsoEnergy\"))"
   ]
  },
  {
   "cell_type": "markdown",
   "id": "641c0b36-8de4-49c8-b621-ec7664a8ec71",
   "metadata": {},
   "source": [
    "### For Weather Station Data"
   ]
  },
  {
   "cell_type": "markdown",
   "id": "7b5a7d5e-8ebc-4742-abb7-7f5d6c9fc851",
   "metadata": {},
   "source": [
    "#### Calculate Weather Points"
   ]
  },
  {
   "cell_type": "code",
   "execution_count": null,
   "id": "0e94bec9-e883-4483-8336-ed96133b5dd0",
   "metadata": {},
   "outputs": [],
   "source": [
    "severe_weather = ['Haze', 'Thunder', 'Storm', 'Heavy', 'Drizzle', 'T-Storm'] # 10 points\n",
    "mild_weather = ['Cloudy', 'Rain', 'Fog', 'Smoke', 'Mist'] # 5 point\n",
    "weather_condition = dict()\n",
    "index = 0\n",
    "for i in range(ws_df.shape[0]):\n",
    "    if(ws_df['weather_condition'][i] not in weather_condition.keys()):\n",
    "        weather_condition[ws_df['weather_condition'][i]] = 0\n",
    "    else:\n",
    "         weather_condition[ws_df['weather_condition'][i]] =  weather_condition[ws_df['weather_condition'][i]] + 1\n",
    "\n",
    "            \n",
    "ws_df['weather_score'] = 0\n",
    "for i in range(ws_df.shape[0]):\n",
    "    points = 0\n",
    "    for k in str(ws_df['weather_condition'][i]).split(\"/\"):\n",
    "        for kk in k:\n",
    "            if(kk in severe_weather):\n",
    "                points = points + 10\n",
    "            elif(kk in mild_weather):\n",
    "                points = points + 5\n",
    "    ws_df.loc[i, 'weather_score']= points"
   ]
  },
  {
   "cell_type": "markdown",
   "id": "016c32a6-9763-4d89-94e1-172d43727d37",
   "metadata": {},
   "source": [
    "#### Adjust Data Format"
   ]
  },
  {
   "cell_type": "code",
   "execution_count": null,
   "id": "93f86311-5167-4e8b-bf8f-c19b2b17f9c1",
   "metadata": {},
   "outputs": [],
   "source": [
    "'time ', 'ambient_temperature',  'relative_humidity',  'weather_condition ',' weather_score'\n",
    "\n",
    "ws_df"
   ]
  },
  {
   "cell_type": "markdown",
   "id": "c9f2291b-028d-4b9c-9ec2-8a4d18a19c17",
   "metadata": {},
   "source": [
    "#### Insert the dataframe Day by Day"
   ]
  },
  {
   "cell_type": "code",
   "execution_count": null,
   "id": "0ceb467e-6e0a-4075-936b-bf700e89737e",
   "metadata": {},
   "outputs": [],
   "source": [
    "for i in range(total_days):\n",
    "    current_date = start_date + timedelta(days=i)\n",
    "    current_df = ws_df.iloc[ae_start_index[i]:ae_end_index[i]]\n",
    "    # Insert Operation\n",
    "    #print(current_date)\n",
    "    #print(mysql_obj.insert(current_df, \"WeatherStation\"))"
   ]
  },
  {
   "cell_type": "markdown",
   "id": "95a3b4d8-eb8d-4bdf-88aa-fc50c33c4aa3",
   "metadata": {},
   "source": [
    "### For SunnyPortal"
   ]
  },
  {
   "cell_type": "markdown",
   "id": "bf06b51c-3bfc-42c6-abe8-f2258559880e",
   "metadata": {},
   "source": [
    "#### Adjust Data Format"
   ]
  },
  {
   "cell_type": "code",
   "execution_count": null,
   "id": "f501e29b-b449-4e78-b2ca-ee4373c3b04e",
   "metadata": {},
   "outputs": [],
   "source": [
    "sp_df_origin = pd.concat([sp_op_df, sp_env_df],axis=1)\n",
    "sp_df = pd.concat([sp_df_origin.iloc[:,:27], sp_df_origin.iloc[:,32:33], sp_df_origin.iloc[:,30:32], sp_df_origin.iloc[:,33:36], sp_df_origin.iloc[:,27:28]], axis=1)\n",
    "sp_df.columns = ['time', 'ac_power', 'ac_power_l1', 'ac_power_l2', 'ac_power_l3',\n",
    "       'ac_reactive_power', 'ac_reactive_power_l1', 'ac_reactive_power_l2',\n",
    "       'ac_reactive_power_l3', 'ac_apparent_power', 'ac_apparent_power_l1',\n",
    "       'ac_apparent_power_l2', 'ac_apparent_power_l3', 'ac_voltage_l1',\n",
    "       'ac_voltage_l2', 'ac_voltage_l3', 'ac_current_l1', 'ac_current_l2',\n",
    "       'ac_current_l3', 'grid_frequency', 'dc_power_a', 'dc_power_b',\n",
    "       'dc_voltage_a', 'dc_voltage_b', 'dc_current_a', 'dc_current_b', 'iso', 'ir',\n",
    "       'ambient_temp', 'ambient_rh', 'cap_temp', 'relay_temp', 'rh', 'deviceID']"
   ]
  },
  {
   "cell_type": "markdown",
   "id": "d73e76c4-3a91-4b37-900c-21f5fc080391",
   "metadata": {},
   "source": [
    "#### Insert the Dataframe Day by Day"
   ]
  },
  {
   "cell_type": "code",
   "execution_count": null,
   "id": "a3256ffc-730f-4695-aca7-d82a2f9143b7",
   "metadata": {},
   "outputs": [],
   "source": [
    "for i in range(total_days):\n",
    "    current_date = start_date + timedelta(days=i)\n",
    "    current_df = sp_df.iloc[sp_start_index[i]:sp_end_index[i]]\n",
    "    # Insert Operation\n",
    "    print(current_date)\n",
    "    print(mysql_obj.insert(current_df, \"SunnyPortal\"))"
   ]
  }
 ],
 "metadata": {
  "kernelspec": {
   "display_name": "dataprocess",
   "language": "python",
   "name": "dataprocess"
  },
  "language_info": {
   "codemirror_mode": {
    "name": "ipython",
    "version": 3
   },
   "file_extension": ".py",
   "mimetype": "text/x-python",
   "name": "python",
   "nbconvert_exporter": "python",
   "pygments_lexer": "ipython3",
   "version": "3.11.5"
  }
 },
 "nbformat": 4,
 "nbformat_minor": 5
}
